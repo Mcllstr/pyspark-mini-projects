{
 "cells": [
  {
   "cell_type": "code",
   "execution_count": 1,
   "metadata": {},
   "outputs": [],
   "source": [
    "import findspark\n",
    "findspark.init()\n",
    "\n",
    "import pyspark\n",
    "from pyspark.sql import SparkSession\n",
    "from pyspark.sql.functions import *\n",
    "import json\n",
    "\n",
    "from pyspark import SparkContext\n",
    "from pyspark import sql\n",
    "from pyspark.sql import SQLContext\n",
    "\n",
    "from nltk.tokenize import RegexpTokenizer\n",
    "from nltk.stem.wordnet import WordNetLemmatizer\n",
    "from nltk.corpus import stopwords"
   ]
  },
  {
   "cell_type": "code",
   "execution_count": 2,
   "metadata": {},
   "outputs": [],
   "source": [
    "# Create spark session\n",
    "spark = SparkSession\\\n",
    "    .builder\\\n",
    "    .master(\"local\")\\\n",
    "    .appName(\"word_count_jsonl\")\\\n",
    "    .config(\"spark.some.config.option\", \"some-value\")\\\n",
    "    .getOrCreate()"
   ]
  },
  {
   "cell_type": "code",
   "execution_count": 9,
   "metadata": {},
   "outputs": [
    {
     "name": "stdout",
     "output_type": "stream",
     "text": [
      "root\n",
      " |-- section_texts: array (nullable = true)\n",
      " |    |-- element: string (containsNull = true)\n",
      " |-- section_titles: array (nullable = true)\n",
      " |    |-- element: string (containsNull = true)\n",
      " |-- title: string (nullable = true)\n",
      "\n"
     ]
    }
   ],
   "source": [
    "# declare data file path for read in next line\n",
    "path = 'c:/users/prayt/mini_pyspark_projects/article_samples.json.gz'\n",
    "# read jsonl file into spark dataframe\n",
    "json_df = spark.read.json(path)\n",
    "# show spark dataframe schema\n",
    "json_df.printSchema()\n",
    "# observe each section_texts cell is a list of text sections"
   ]
  },
  {
   "cell_type": "code",
   "execution_count": 7,
   "metadata": {},
   "outputs": [],
   "source": [
    "# collapse list of strings for each article to one long text string for each article \n",
    "samp_df =  json_df.select('section_texts').rdd.map(lambda x: ' '.join(x[0])) \n",
    "# tokenize each article\n",
    "\n"
   ]
  },
  {
   "cell_type": "code",
   "execution_count": 8,
   "metadata": {},
   "outputs": [
    {
     "data": {
      "text/plain": [
       "2"
      ]
     },
     "execution_count": 8,
     "metadata": {},
     "output_type": "execute_result"
    }
   ],
   "source": [
    "len(samp_rdd.take(2))"
   ]
  },
  {
   "cell_type": "code",
   "execution_count": 6,
   "metadata": {},
   "outputs": [],
   "source": [
    "json_rdd = spark.read.json(path)"
   ]
  },
  {
   "cell_type": "code",
   "execution_count": 13,
   "metadata": {},
   "outputs": [],
   "source": [
    "# Viz what records in file look like"
   ]
  },
  {
   "cell_type": "code",
   "execution_count": 14,
   "metadata": {},
   "outputs": [],
   "source": [
    "import gzip\n",
    "\n",
    "with gzip.GzipFile(path, 'r') as zipped_file:\n",
    "    # read one dictionary at a time and store in data\n",
    "    # declare empty counter object\n",
    "    data = []\n",
    "    for a_dict in zipped_file:\n",
    "        data.append(json.loads(a_dict.decode('utf-8')))"
   ]
  },
  {
   "cell_type": "code",
   "execution_count": 26,
   "metadata": {
    "scrolled": true
   },
   "outputs": [
    {
     "data": {
      "text/plain": [
       "{'title': 'Amathus',\n",
       " 'section_titles': ['Introduction',\n",
       "  'History',\n",
       "  'The Site and Archaeology',\n",
       "  'Gallery',\n",
       "  'Notes',\n",
       "  'References',\n",
       "  ' External links '],\n",
       " 'section_texts': [\"\\n\\n\\n\\n\\n'''Amathus''' or '''Amathous''' () was an ancient city and one of the ancient royal cities of Cyprus until about 300 BC. Some of its impressive remains can be seen today on the southern coast in front of Agios Tychonas, about 24 miles west of Larnaca and 6 miles east of Limassol. Its ancient cult sanctuary of Aphrodite was the second most important in Cyprus, her homeland, after Paphos.\\n\\nArchaeological work has recently been continued at the site and many finds are exhibited in the Limassol Museum.\\n\",\n",
       "  '===Pre-history and ancient era===\\nAncient kingdoms of Cyprus\\nThe pre-history of Amathus mixes myth and archaeology. Archaeology has detected human activity from the earliest Iron Age,  BC. \\nThe city\\'s legendary founder was Cinyras, linked with the birth of Adonis, who called the city after his mother Amathous. According to a version of the Ariadne legend noted by Plutarch, Theseus abandoned Ariadne at Amathousa, where she died giving birth to her child and was buried in a sacred tomb. According to Plutarch\\'s source, Amathousians called the sacred grove where her shrine was situated the Wood of Aphrodite Ariadne. More purely Hellenic myth would have Amathus settled instead by one of the sons of Heracles, thus accounting for the fact that he was worshiped there.\\n \\nIt was said in antiquity that the people of Amathus were autochthonous, or \"Pelasgian\". Their non-Greek language is confirmed on the site by Eteocypriot inscriptions in the Cypriot syllabary which alone in the Aegean world survived the Bronze Age collapse and continued to be used down to the 4th century BC.\\n \\nAmathus was built on the coastal cliffs with a natural harbour and flourished at an early date, soon requiring several cemeteries. Greeks from Euboea left their pottery at Amathus from the 10th century BC. During the post-Phoenician era of the 8th century BC, a palace was erected and a port was also constructed, which served the trade with the Greeks and the Levantines. A special burial ground for infants, a \\'\\'tophet\\'\\' served the culture of the Phoenicians. For the Hellenes, high on the cliff a temple was built, which became a worship site devoted to Aphrodite, in her particular local presence as \\'\\'Aphrodite Amathusia\\'\\' along with a bearded male Aphrodite called \\'\\'Aphroditos\\'\\'. The excavators discovered the final stage of the Temple of Aphrodite, also known as Aphrodisias, which dates approximately to the 1st century BC. According to the legend, it was where festive Adonia took place, in which athletes competed in hunting wild boars during sport competitions; they also competed in dancing and singing, all to the honour of Adonis.\\nFish, polychromic terracotta, 5th century BCE, found in Amathus\\n\\nThe earliest remains hitherto found on the site are tombs of the early Iron Age period of Graeco-Phoenician influences (1000-600 BC). Amathus is identified with \\'\\'Kartihadasti\\'\\' (Phoenician \"New-Town\") in the Cypriote tribute-list of Esarhaddon of Assyria (668 BC).  It certainly maintained strong Phoenician sympathies, for it was its refusal to join the philhellene league of Onesilos of Salamis which provoked the revolt of Cyprus from Achaemenid Persia in 500-494 BC, when Amathus was besieged unsuccessfully and avenged itself by the capture and execution of Onesilos. Herodotus reports\\n:\"Because he had besieged them, the Amathusians cut off Onesilos’ head and brought it to Amathous, where they hung it above the gates. As it hung there empty, a swarm of bees entered it and filled it with honeycomb. When they sought advice about this event, an oracle told them to take the head down and bury it, and to make annual sacrifice to Onesilos as a hero, saying that it would be better for them if they did this. The Amathusians did as they were told and still perform these rites in my day.\" (\\'\\'Histories\\'\\' 5.114)\\n\\nAmathus was a rich and densely populated kingdom with a flourishing agriculture (grain and sheep) and copper mines situated very close to the northeast Kalavasos.\\n\\n===Hellenistic Era===\\nAbout 385-380 BC, the philhellene Evagoras of Salamis was similarly opposed by Amathus, allied with Citium and Soli; and even after Alexander the city resisted annexation, and was bound over to give hostages to Seleucus. Its political importance was now ended but its temple of Adonis and Aphrodite Amathusia remained famous in Roman times. The epithet \\'\\'Amathusia\\'\\' in Roman poetry often means little more than \"Cypriote,\" but attesting to the fame of the city.\\n\\nFrom the 4th century BC the pedestals of two sculptures donated by the last Basileus of Amathous, Androkles, representing his two sons, Orestheus and Andragoras, have survived. Their inscriptions are in both Eteozypric and Greek languages.\\n\\nThe decline of Amathous is often measured by the Ptolemaic gifts to Argos, where Amathous donated only 40 drachmas in 170-160 BC, but Kition and Salamis gave 208, Kourion 172, and Paphos 100. However, this figure contradicts the archaeologic evidence of new buildings in this period including a balneion, a bath, a gymnasium, as well as fortifications of the Acropolis, including a new tower. However, the port of Paphos lost traffic compared to Amathous in the Ptolemaic period, an indication that Paphos as the capital of the island perhaps offered fewer drachmas than the other cities for different reasons, like Amathous.\\n\\n===Roman Era===\\n\\nIn the Roman era Amathus became the capital of one of the four administrative regions of Cyprus.\\n\\nA Roman temple was built in the 1st century AD on top of the Hellenistic predecessor. The temple facilities remained so important in Roman times that \\'Amathusia\\' was used as a synonym for \\'Cypriot\\'.\\n\\n===Late Antiquity and the Middle Ages===\\nLater, in the 4th century AD, Amasus became the see of a Christian bishop and continued to flourish until the Byzantine period. Of its bishops, Heliodorus was at the Council of Chalcedon in 451 and Alexander at the Second Council of Nicaea in 787. In the late 6th century, Saint Ioannis Eleimonas (John the Charitable), protector of the Knights of St. John, was born in Amathus and after 614 sent Theodorus, bishop of Amathus, to Jerusalem to ransom some slaves.\\n\\nToday, Amathus is a see of the Church of Cyprus and is also listed (under the name \"Amathus in Cypro\", to distinguish it from \"Amathus in Transjordan\") as a titular see by the Catholic Church, which however, in line with the practice adopted after the Second Vatican Council, has made no appointments to the bishopric since the death of the last Latin titular bishop in 1984.\\n\\nAnastasius Sinaita, the famous 7th-century prolific monk of Saint Catherine\\'s Monastery, was born here. It is thought that he left Cyprus after the 649 Arab conquest of the island, setting out for the Holy Land, and eventually becoming a monk on Sinai.\\n\\nAmathus declined and was already almost deserted when Richard Plantagenet won Cyprus by a victory there over Isaac Comnenus in 1191. The tombs were plundered and the stones from the beautiful edifices were brought to Limassol to be used for new constructions. Much later, in 1869, a great number of blocks of stone from Amathus were used for the construction of the Suez Canal. A ruined Byzantine church marks its site.\\n\\n===In modern times===\\nA new settlement close to Amathus but further inland, Agios Tychonas, is named after the bishop Saint Tychon of Amathus. The site of the ruins is within the borders of this village, though the expansion of the Limassol tourist area has threatened the ruins: it is speculated that some of the hotels are on top of the Amathus necropolis.\\n',\n",
       "  \"\\nThe city had vanished, except for fragments of wall and of a great stone urn on the acropolis, dating from the 6th century BC of which a similar vessel was taken to the Musée du Louvre in 1867. It is  tall and weighs 14 tons. It was made from a single piece of stone and has four curved handles carved with bulls. In the 1870s, Luigi Palma di Cesnola excavated the necropolis of Amathus, as elsewhere in Cyprus, enriching the early collections of the Metropolitan Museum of Art; some objects went to the British Museum. More modern archaeological joint Cypriote-French excavations started in 1980 and still continue. The Acropolis, the Temple of Aphrodite, the agora, the city's walls, the basilica and the port have all been excavated.\\n\\nFurther archaeological objects found during the excavations are preserved at both the Cyprus Museum in Nicosia and the Limassol District Archaeological Museum.\\n \\nIn the agora there are marble columns decorated with spirals and a huge paved squares. On the coastal side of the city there is an Early Christian basilica with mosaic floors decorated with semi-precious stones. Further, near the terraced road leading to the Temple, situated on the top of the cliff, several houses built in a row dating to the Hellenistic period have been discovered. At the east and west extremes of the city the two acropoleis are situated where a number of tombs have been found, many of which are intact.\\n\\nTwo small sanctuaries, with terracotta votive offerings of Graeco-Phoenician age, lie not far off, but the location of the great shrines of Adonis and Aphrodite have not been identified (M. Ohnefalsch-Richter, ''Kypros,'' i. ch.1).\\n\",\n",
       "  '\\nFile:Amphora from Amathus at the British Museum.jpg|Amphora from tomb 52, Amathus, 6th century BC, British Museum\\nFile:Αρχαιότητες της Αμαθούντας 2.jpg|in-situ copy of massive stone vase (original in the Louvre)\\n\\n',\n",
       "  '\\n',\n",
       "  '* Richard Stillwell, ed. \\'\\'Princeton Encyclopaedia of Classical Sites\\'\\', 1976: \"Amathous, Cyprus\"\\n* Municipality of Limassol\\n',\n",
       "  '\\n* http://www.mcw.gov.cy/mcw/DA/DA.nsf/0/D20ED526826AB796C225719B00374A92?OpenDocument\\n* Agias Tychonas: Amathus (English)\\n* http://www.anastasiosofsinai.org/index.html (English)\\n\\n\\n\\n\\n\\n']}"
      ]
     },
     "execution_count": 26,
     "metadata": {},
     "output_type": "execute_result"
    }
   ],
   "source": [
    "data[575]"
   ]
  },
  {
   "cell_type": "code",
   "execution_count": null,
   "metadata": {},
   "outputs": [],
   "source": []
  }
 ],
 "metadata": {
  "kernelspec": {
   "display_name": "Python 3",
   "language": "python",
   "name": "python3"
  },
  "language_info": {
   "codemirror_mode": {
    "name": "ipython",
    "version": 3
   },
   "file_extension": ".py",
   "mimetype": "text/x-python",
   "name": "python",
   "nbconvert_exporter": "python",
   "pygments_lexer": "ipython3",
   "version": "3.7.3"
  }
 },
 "nbformat": 4,
 "nbformat_minor": 2
}
